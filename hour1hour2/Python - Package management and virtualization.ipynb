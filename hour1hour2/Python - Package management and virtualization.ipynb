{
 "cells": [
  {
   "cell_type": "markdown",
   "metadata": {},
   "source": [
    "Package managers for Operating systems  \n",
    "Redhat - Yum, Dnf  \n",
    "Ubuntu - apt  "
   ]
  },
  {
   "cell_type": "markdown",
   "metadata": {},
   "source": [
    "Package management for programming languages  \n",
    "Python - pip, conda  \n",
    "Ruby - gem  \n",
    "node - npm  "
   ]
  },
  {
   "cell_type": "markdown",
   "metadata": {},
   "source": [
    "`pip --version`  \n",
    "shows the pip package version. pip comes with the latest version of python."
   ]
  },
  {
   "cell_type": "markdown",
   "metadata": {},
   "source": [
    "`pip install <package name>` install a package.  \n",
    "`pip install <package name>==<package version>` install a spcific version of a package.  \n",
    "`pip uninstall <package name>` uninstalls a package.  "
   ]
  },
  {
   "cell_type": "markdown",
   "metadata": {},
   "source": [
    "example:-  \n",
    "`pip install requests==2.21.0` # install requests package version 2.21.0  \n",
    "`pip install requests>=2.21.0` # install requests package version greater than or equal to 2.21.0  \n",
    "`pip install requests<=2.21.0` # install requests package version lesser than or equal to 2.21.0  \n",
    "`pip install requests~=1.2`    # install version 1.2 and any minor update, but not 2.0"
   ]
  },
  {
   "cell_type": "markdown",
   "metadata": {},
   "source": [
    "`pip freeze` shows the list of packages installed and we cann save this to a text file, typically called 'requirementx.txt'\n",
    "`pip freeze > requirements.txt` "
   ]
  },
  {
   "cell_type": "markdown",
   "metadata": {},
   "source": [
    "the `venv` module helps us create virtual environments with python. It is pre included with python 3.3+.  \n",
    "`python -m venv <venvname>`  or `virtualenv <venvname>`  \n",
    "is the syntax to create a virtual environment. If you have both python2 and python3 both in your system then you might want to run\n",
    "`python3 -m venv <venvname>`  \n",
    "if you want to create a virtualenvironment for python 3.x.  \n",
    "`.\\venv0\\Scripts\\activate` on windows. On other operating systems it should be similar. You just have to run the activate script located at the <virtual environment name>/scripts/.  \n",
    "Run `deactivate` to deactivate the virtual environment.  "
   ]
  },
  {
   "cell_type": "code",
   "execution_count": null,
   "metadata": {},
   "outputs": [],
   "source": []
  }
 ],
 "metadata": {
  "kernelspec": {
   "display_name": "Python 3",
   "language": "python",
   "name": "python3"
  },
  "language_info": {
   "codemirror_mode": {
    "name": "ipython",
    "version": 3
   },
   "file_extension": ".py",
   "mimetype": "text/x-python",
   "name": "python",
   "nbconvert_exporter": "python",
   "pygments_lexer": "ipython3",
   "version": "3.7.1"
  }
 },
 "nbformat": 4,
 "nbformat_minor": 2
}
