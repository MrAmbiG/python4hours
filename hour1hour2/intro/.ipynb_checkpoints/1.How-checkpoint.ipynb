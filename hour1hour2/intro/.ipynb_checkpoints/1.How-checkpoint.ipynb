{
 "cells": [
  {
   "cell_type": "markdown",
   "metadata": {},
   "source": [
    "# How Python?"
   ]
  },
  {
   "cell_type": "markdown",
   "metadata": {},
   "source": [
    "How can I get Python?  \n",
    "How can I learn Python?  \n",
    "How can I get help on Python?"
   ]
  },
  {
   "cell_type": "markdown",
   "metadata": {},
   "source": [
    "## method 1 (easiest)"
   ]
  },
  {
   "cell_type": "markdown",
   "metadata": {},
   "source": [
    "- Go to https://www.python.org/  \n",
    "- Download the latest 3.x (currently 3.7.x in 2019)  \n",
    "- Install and add it to your path  "
   ]
  },
  {
   "cell_type": "markdown",
   "metadata": {},
   "source": [
    "## method 2 (recommended)  "
   ]
  },
  {
   "cell_type": "markdown",
   "metadata": {},
   "source": [
    "- Go to https://www.anaconda.com/distribution/  \n",
    "- Install the anaconda python distribution  "
   ]
  },
  {
   "cell_type": "markdown",
   "metadata": {},
   "source": [
    "## method 3 (online)  "
   ]
  },
  {
   "cell_type": "markdown",
   "metadata": {},
   "source": [
    "Bookmark the following online free python editors  \n",
    "- https://www.python.org/shell/  \n",
    "- repl.it  (my favorite)\n",
    "- https://jupyter.org/try  \n",
    "- https://www.codechef.com/ide   "
   ]
  },
  {
   "cell_type": "markdown",
   "metadata": {},
   "source": [
    "`git clone https://github.com/MrAmbiG/python4hours.git`"
   ]
  },
  {
   "cell_type": "markdown",
   "metadata": {},
   "source": [
    "After the install  (windows instructions)\n",
    "- pip install jupyterlab  \n",
    "- run `jupyter lab`"
   ]
  },
  {
   "cell_type": "markdown",
   "metadata": {},
   "source": [
    "On Unix/Linux  \n",
    "Make python 3.x as the default one by doing the following.  \n",
    "- alias python=python3\n",
    "- alias pip=pip3  \n",
    "Now do  \n",
    "- pip install jupyterlab  \n",
    "- run `jupyter lab`"
   ]
  },
  {
   "cell_type": "code",
   "execution_count": null,
   "metadata": {},
   "outputs": [],
   "source": []
  }
 ],
 "metadata": {
  "kernelspec": {
   "display_name": "Python 3",
   "language": "python",
   "name": "python3"
  },
  "language_info": {
   "codemirror_mode": {
    "name": "ipython",
    "version": 3
   },
   "file_extension": ".py",
   "mimetype": "text/x-python",
   "name": "python",
   "nbconvert_exporter": "python",
   "pygments_lexer": "ipython3",
   "version": "3.7.1"
  }
 },
 "nbformat": 4,
 "nbformat_minor": 2
}
