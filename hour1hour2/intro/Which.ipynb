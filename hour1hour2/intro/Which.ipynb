{
 "cells": [
  {
   "cell_type": "markdown",
   "metadata": {},
   "source": [
    "# Which Python?"
   ]
  },
  {
   "cell_type": "markdown",
   "metadata": {},
   "source": [
    "## Which python should you use?  \n",
    "- Python 2.x?\n",
    "- Python 3.x?\n",
    "- Python?\n",
    "- Cython?\n",
    "- Jython?\n",
    "- Ipython?"
   ]
  },
  {
   "cell_type": "markdown",
   "metadata": {},
   "source": [
    "Cython - is a superset of Python that compiles to C. It is used to write extentions for C programming language. It also gives you a near C performance boost that doing the same in pure Python.  "
   ]
  },
  {
   "cell_type": "markdown",
   "metadata": {},
   "source": [
    "Jython - is an implementation of Python integrated with the Java platform. Jython programs can seamlessly import and use any Java class. Except for some standard modules, Jython programs use Java classes instead of Python modules."
   ]
  },
  {
   "cell_type": "markdown",
   "metadata": {},
   "source": [
    "Python 2.x - which is currently (2019) at 2.7.x is an older type (not older version) which is out of development and not officially supported by the PSF (Python Software foundation). Security patches are released for it but no new features are added and it is out of development. It is maintained strictly to offer security fixes to those who are using the 2.x. Python 2.x is still the de facto version that gets shipped with most of the linux OS.  "
   ]
  },
  {
   "cell_type": "markdown",
   "metadata": {},
   "source": [
    "print 'hello world' # example syntax for python 2.x"
   ]
  },
  {
   "cell_type": "markdown",
   "metadata": {},
   "source": [
    "Python 3.x - is the one which is officially supported and actively being developed. All new feature of python will be available only here.  "
   ]
  },
  {
   "cell_type": "markdown",
   "metadata": {},
   "source": [
    "print('hello world') # example syntax for python 3.x"
   ]
  },
  {
   "cell_type": "markdown",
   "metadata": {},
   "source": [
    "Ipython - or Interactive Python is what you are seeing here. IPython allows you to interact with the code like a regular text. You can go back and make changes and see how it affects the whole code or just that part of the code.  All beginners are adviced to stick to IPython."
   ]
  },
  {
   "cell_type": "code",
   "execution_count": null,
   "metadata": {},
   "outputs": [],
   "source": []
  }
 ],
 "metadata": {
  "kernelspec": {
   "display_name": "Python 3",
   "language": "python",
   "name": "python3"
  },
  "language_info": {
   "codemirror_mode": {
    "name": "ipython",
    "version": 3
   },
   "file_extension": ".py",
   "mimetype": "text/x-python",
   "name": "python",
   "nbconvert_exporter": "python",
   "pygments_lexer": "ipython3",
   "version": "3.7.1"
  }
 },
 "nbformat": 4,
 "nbformat_minor": 2
}
