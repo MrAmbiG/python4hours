{
 "cells": [
  {
   "cell_type": "markdown",
   "metadata": {},
   "source": [
    "# Why Python ?"
   ]
  },
  {
   "cell_type": "markdown",
   "metadata": {},
   "source": [
    "__The easiest and most beginner friendly programming language__"
   ]
  },
  {
   "cell_type": "markdown",
   "metadata": {},
   "source": [
    "Because it is at least in the top 3 of any field of programming  \n",
    "Web Development  \n",
    "Data Science  \n",
    "IOT  \n",
    "Automation  \n",
    "Robotics  \n",
    "etc.,"
   ]
  },
  {
   "cell_type": "markdown",
   "metadata": {},
   "source": [
    "## Ansible"
   ]
  },
  {
   "cell_type": "markdown",
   "metadata": {},
   "source": [
    "- Ansible is written in python 2.x  \n",
    "- You need to know python to write ansible modules.  "
   ]
  },
  {
   "cell_type": "markdown",
   "metadata": {},
   "source": [
    "Let us look at what languages cover the widest spectrum of programming. Here spectrum not just means platform but different fields of programming. Javascript is great at web front end but can it also do data science as good as R?"
   ]
  },
  {
   "cell_type": "markdown",
   "metadata": {},
   "source": [
    "There are programming languages which are masters of one and they are designed to done thing well than others.\n",
    "Ex: R is made for data scientists, mathematicians, do statistics etc.,"
   ]
  },
  {
   "cell_type": "markdown",
   "metadata": {},
   "source": [
    "There are programming languages which are made to excel at one field but can do well in other fields too.\n",
    "ex: javascript. It was and is the de facto lingo of the web but it can also do a lot of other things well."
   ]
  },
  {
   "cell_type": "markdown",
   "metadata": {},
   "source": [
    "There are low level languages and then there are high level languages like python which are interpreted on runtime line by line."
   ]
  },
  {
   "cell_type": "code",
   "execution_count": 1,
   "metadata": {},
   "outputs": [],
   "source": [
    "from IPython.display import Image\n",
    "from IPython.core.display import HTML "
   ]
  },
  {
   "cell_type": "code",
   "execution_count": 6,
   "metadata": {},
   "outputs": [
    {
     "data": {
      "text/html": [
       "<img src=\"https://adtmag.com/articles/2017/07/24/~/media/ECG/adtmag/Images/2017/07/ieee_spectrum_2017.png\"/>"
      ],
      "text/plain": [
       "<IPython.core.display.Image object>"
      ]
     },
     "execution_count": 6,
     "metadata": {},
     "output_type": "execute_result"
    }
   ],
   "source": [
    "url=\"https://adtmag.com/articles/2017/07/24/~/media/ECG/adtmag/Images/2017/07/ieee_spectrum_2017.png\"\n",
    "Image(url=f\"{url}\")"
   ]
  },
  {
   "cell_type": "code",
   "execution_count": 9,
   "metadata": {},
   "outputs": [
    {
     "data": {
      "text/html": [
       "<img src=\"https://learndatasciencedotnet.files.wordpress.com/2016/08/ds-stackexchange_r_vs_python.png?w=456\"/>"
      ],
      "text/plain": [
       "<IPython.core.display.Image object>"
      ]
     },
     "execution_count": 9,
     "metadata": {},
     "output_type": "execute_result"
    }
   ],
   "source": [
    "url=\"https://learndatasciencedotnet.files.wordpress.com/2016/08/ds-stackexchange_r_vs_python.png?w=456\"\n",
    "Image(url=f\"{url}\")"
   ]
  },
  {
   "cell_type": "code",
   "execution_count": 2,
   "metadata": {},
   "outputs": [
    {
     "data": {
      "text/html": [
       "<img src=\"https://cdn-images-1.medium.com/max/1400/0*agN3x-Al2UXuuZgx.\"/>"
      ],
      "text/plain": [
       "<IPython.core.display.Image object>"
      ]
     },
     "execution_count": 2,
     "metadata": {},
     "output_type": "execute_result"
    }
   ],
   "source": [
    "url=\"https://cdn-images-1.medium.com/max/1400/0*agN3x-Al2UXuuZgx.\"\n",
    "Image(url=f\"{url}\")"
   ]
  },
  {
   "cell_type": "code",
   "execution_count": null,
   "metadata": {},
   "outputs": [],
   "source": []
  }
 ],
 "metadata": {
  "kernelspec": {
   "display_name": "Python 3",
   "language": "python",
   "name": "python3"
  },
  "language_info": {
   "codemirror_mode": {
    "name": "ipython",
    "version": 3
   },
   "file_extension": ".py",
   "mimetype": "text/x-python",
   "name": "python",
   "nbconvert_exporter": "python",
   "pygments_lexer": "ipython3",
   "version": "3.7.1"
  }
 },
 "nbformat": 4,
 "nbformat_minor": 2
}
