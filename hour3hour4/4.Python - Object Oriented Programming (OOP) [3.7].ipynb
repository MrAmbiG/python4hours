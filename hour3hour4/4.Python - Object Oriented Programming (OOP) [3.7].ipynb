{
 "cells": [
  {
   "cell_type": "markdown",
   "metadata": {},
   "source": [
    "# Python3.7 - Object Oriented Programming (OOP)"
   ]
  },
  {
   "cell_type": "markdown",
   "metadata": {},
   "source": [
    "Python is a multi-paradigm programming language. It also supports OOP. __Solving problems programming by creating objects is OOP__ . An object has  \n",
    "- Attributes - are those which define an object.  \n",
    "- Behavior - are those which an object does.  \n",
    "If Batman is an object then his  \n",
    "attributes -> height, age, location, powers...  \n",
    "behaviour -> fight, dance, fly, sing      "
   ]
  },
  {
   "cell_type": "markdown",
   "metadata": {},
   "source": [
    "DRY - Don't Repeat Yourself is the primary focus in python OOP, which emphasises on making the code reusable."
   ]
  },
  {
   "cell_type": "code",
   "execution_count": 1,
   "metadata": {},
   "outputs": [],
   "source": [
    "class Jl:\n",
    "\n",
    "    # class attribute\n",
    "    team = \"Justice League\"\n",
    "\n",
    "    # instance attribute\n",
    "    def __init__(self, name, power):\n",
    "        # __init__() is a constructor of a class. It initiates the class.\n",
    "        self.name = name\n",
    "        self.power = power"
   ]
  },
  {
   "cell_type": "code",
   "execution_count": 2,
   "metadata": {},
   "outputs": [],
   "source": [
    "batman = Jl(\"bruce wayne\", 'perseverance')"
   ]
  },
  {
   "cell_type": "code",
   "execution_count": 3,
   "metadata": {},
   "outputs": [
    {
     "data": {
      "text/plain": [
       "'Justice League'"
      ]
     },
     "execution_count": 3,
     "metadata": {},
     "output_type": "execute_result"
    }
   ],
   "source": [
    "batman.__class__.team"
   ]
  },
  {
   "cell_type": "code",
   "execution_count": 4,
   "metadata": {},
   "outputs": [
    {
     "data": {
      "text/plain": [
       "'bruce wayne'"
      ]
     },
     "execution_count": 4,
     "metadata": {},
     "output_type": "execute_result"
    }
   ],
   "source": [
    "batman.name"
   ]
  },
  {
   "cell_type": "code",
   "execution_count": 5,
   "metadata": {},
   "outputs": [
    {
     "data": {
      "text/plain": [
       "'perseverance'"
      ]
     },
     "execution_count": 5,
     "metadata": {},
     "output_type": "execute_result"
    }
   ],
   "source": [
    "batman.power"
   ]
  },
  {
   "cell_type": "markdown",
   "metadata": {},
   "source": [
    "Here Jl was a class. __class is a blueprint of the object.__ and an __object is an (instance) instantiation of a class.__ .\n",
    "If floor design of an apartment is a class then each apartment built by that is an object. Each apartment comes with some standard fittings like the type of tiles, water taps, kitchen chimney etc., and they are class attributes. Whoever buys and occupies that apartment is an object and what he brings there (sofa, kitchen items, house utensils etc.,) are all instance attributes.   \n",
    "methods use given data and process it as per pre written instructions(code). It is like your appliances (tv, music player, washing machine) which take input and do something which are pre designed do something. Washing machine takes some clothes and cleans them, just as it is designed to do. A refrigerator takes food items and keeps them cool, just as it is designed to do. Similary a function is designed to take some input, do something and produce some result. A function inside a class is referred as a __method__."
   ]
  },
  {
   "cell_type": "code",
   "execution_count": 6,
   "metadata": {},
   "outputs": [],
   "source": [
    "class Jl:\n",
    "\n",
    "    # class attribute\n",
    "    team = \"Justice League\"\n",
    "\n",
    "    # instance attribute\n",
    "    def __init__(self, name, power, age):\n",
    "        self.name = name\n",
    "        self.power = power\n",
    "        self.age = age\n",
    "        \n",
    "    def fights(self, location):\n",
    "        return f'bad guys at {location}'\n",
    "    \n",
    "    def retired(self):\n",
    "        if self.age > 108:\n",
    "            return True\n",
    "        else:\n",
    "            return False"
   ]
  },
  {
   "cell_type": "code",
   "execution_count": 7,
   "metadata": {},
   "outputs": [],
   "source": [
    "batman=Jl(\"bruce wayne\", 'perseverance', 99)"
   ]
  },
  {
   "cell_type": "code",
   "execution_count": 8,
   "metadata": {},
   "outputs": [
    {
     "data": {
      "text/plain": [
       "'bad guys at gotham'"
      ]
     },
     "execution_count": 8,
     "metadata": {},
     "output_type": "execute_result"
    }
   ],
   "source": [
    "batman.fights('gotham')"
   ]
  },
  {
   "cell_type": "code",
   "execution_count": 9,
   "metadata": {},
   "outputs": [
    {
     "data": {
      "text/plain": [
       "False"
      ]
     },
     "execution_count": 9,
     "metadata": {},
     "output_type": "execute_result"
    }
   ],
   "source": [
    "batman.retired()"
   ]
  },
  {
   "cell_type": "code",
   "execution_count": 10,
   "metadata": {},
   "outputs": [
    {
     "data": {
      "text/plain": [
       "'Justice League'"
      ]
     },
     "execution_count": 10,
     "metadata": {},
     "output_type": "execute_result"
    }
   ],
   "source": [
    "batman.team"
   ]
  },
  {
   "cell_type": "code",
   "execution_count": 11,
   "metadata": {},
   "outputs": [],
   "source": [
    "batman.team='secret league'\n",
    "\n",
    "# udpated the class attribute for batman object. Will it change the blueprint? will it affect other objects?"
   ]
  },
  {
   "cell_type": "code",
   "execution_count": 12,
   "metadata": {},
   "outputs": [
    {
     "data": {
      "text/plain": [
       "'secret league'"
      ]
     },
     "execution_count": 12,
     "metadata": {},
     "output_type": "execute_result"
    }
   ],
   "source": [
    "batman.team"
   ]
  },
  {
   "cell_type": "code",
   "execution_count": 13,
   "metadata": {},
   "outputs": [],
   "source": [
    "superman=Jl(\"clark kent\", 'flight', 101)"
   ]
  },
  {
   "cell_type": "code",
   "execution_count": 14,
   "metadata": {},
   "outputs": [
    {
     "data": {
      "text/plain": [
       "'bad guys at earth'"
      ]
     },
     "execution_count": 14,
     "metadata": {},
     "output_type": "execute_result"
    }
   ],
   "source": [
    "superman.fights('earth')"
   ]
  },
  {
   "cell_type": "code",
   "execution_count": 15,
   "metadata": {},
   "outputs": [
    {
     "data": {
      "text/plain": [
       "False"
      ]
     },
     "execution_count": 15,
     "metadata": {},
     "output_type": "execute_result"
    }
   ],
   "source": [
    "superman.retired()"
   ]
  },
  {
   "cell_type": "code",
   "execution_count": 16,
   "metadata": {},
   "outputs": [
    {
     "data": {
      "text/plain": [
       "'Justice League'"
      ]
     },
     "execution_count": 16,
     "metadata": {},
     "output_type": "execute_result"
    }
   ],
   "source": [
    "superman.team\n",
    "\n",
    "# so the class attribute is unchanged for other objects."
   ]
  },
  {
   "cell_type": "markdown",
   "metadata": {},
   "source": [
    "What if you wan't to limit the access to variables and methods? What if you don't want them to be changed?"
   ]
  },
  {
   "cell_type": "code",
   "execution_count": 17,
   "metadata": {},
   "outputs": [],
   "source": [
    "class Jl:\n",
    "\n",
    "    # class attribute\n",
    "    team = \"Justice League\"\n",
    "\n",
    "    # instance attribute\n",
    "    def __init__(self, name, power, age):\n",
    "        self.name = name\n",
    "        self.power = power\n",
    "        self.age = age\n",
    "        self.__side= 'light'\n",
    "        \n",
    "    def fights(self, location):\n",
    "        '''returns the given location'''\n",
    "        return f'bad guys at {location}'\n",
    "    \n",
    "    def retired(self):\n",
    "        if self.age > 108:\n",
    "            return True\n",
    "        else:\n",
    "            return False\n",
    "        \n",
    "    def changeSide(self, side):\n",
    "        self.__side= side\n",
    "        \n",
    "    def whichSide(self):\n",
    "        return self.__side\n",
    "    \n",
    "    def __help(self):\n",
    "        '''a private method(function) is something which is meant\n",
    "        to be used by other members of the class, not outsiders.\n",
    "        '''\n",
    "        return f'hey {self.name}, please help me'\n",
    "    \n",
    "    def call(self):\n",
    "        return self.__help()"
   ]
  },
  {
   "cell_type": "code",
   "execution_count": 18,
   "metadata": {},
   "outputs": [],
   "source": [
    "superman=Jl('bruce','flight',99)"
   ]
  },
  {
   "cell_type": "code",
   "execution_count": 19,
   "metadata": {},
   "outputs": [
    {
     "name": "stdout",
     "output_type": "stream",
     "text": [
      "bruce\n",
      "99\n"
     ]
    }
   ],
   "source": [
    "print(superman.name)\n",
    "print(superman.age)"
   ]
  },
  {
   "cell_type": "code",
   "execution_count": 20,
   "metadata": {},
   "outputs": [],
   "source": [
    "# superman.__side\n",
    "\n",
    "# you will get an AttributeError."
   ]
  },
  {
   "cell_type": "code",
   "execution_count": 21,
   "metadata": {},
   "outputs": [
    {
     "data": {
      "text/plain": [
       "'light'"
      ]
     },
     "execution_count": 21,
     "metadata": {},
     "output_type": "execute_result"
    }
   ],
   "source": [
    "superman.whichSide()\n",
    "\n",
    "# So only a member of the class Jl can access it."
   ]
  },
  {
   "cell_type": "code",
   "execution_count": 22,
   "metadata": {},
   "outputs": [],
   "source": [
    "superman.__side='dark'\n",
    "\n",
    "# still cannot change it. "
   ]
  },
  {
   "cell_type": "code",
   "execution_count": 23,
   "metadata": {},
   "outputs": [
    {
     "data": {
      "text/plain": [
       "'light'"
      ]
     },
     "execution_count": 23,
     "metadata": {},
     "output_type": "execute_result"
    }
   ],
   "source": [
    "superman.whichSide()"
   ]
  },
  {
   "cell_type": "code",
   "execution_count": 24,
   "metadata": {},
   "outputs": [],
   "source": [
    "superman.changeSide('dark')\n",
    "\n",
    "# So only an insider (a member of the class can change it)"
   ]
  },
  {
   "cell_type": "code",
   "execution_count": 25,
   "metadata": {},
   "outputs": [
    {
     "data": {
      "text/plain": [
       "'dark'"
      ]
     },
     "execution_count": 25,
     "metadata": {},
     "output_type": "execute_result"
    }
   ],
   "source": [
    "superman.whichSide()"
   ]
  },
  {
   "cell_type": "markdown",
   "metadata": {},
   "source": [
    "It is clear that we just limited the access to attributes by prefixing __ to it. The same can be done to methods."
   ]
  },
  {
   "cell_type": "code",
   "execution_count": 26,
   "metadata": {},
   "outputs": [],
   "source": [
    "# superman.__help()\n",
    "\n",
    "# you will face AttributeError"
   ]
  },
  {
   "cell_type": "code",
   "execution_count": 27,
   "metadata": {},
   "outputs": [
    {
     "data": {
      "text/plain": [
       "'hey bruce, please help me'"
      ]
     },
     "execution_count": 27,
     "metadata": {},
     "output_type": "execute_result"
    }
   ],
   "source": [
    "superman.call()"
   ]
  },
  {
   "cell_type": "markdown",
   "metadata": {},
   "source": [
    "limiting access to methods and variables of a class to prevent direct data modification is called __encapsulation__. "
   ]
  },
  {
   "cell_type": "markdown",
   "metadata": {},
   "source": [
    "Let us now discuss __Polymorphism__"
   ]
  },
  {
   "cell_type": "markdown",
   "metadata": {},
   "source": [
    "**Polymorphism with class**"
   ]
  },
  {
   "cell_type": "code",
   "execution_count": 28,
   "metadata": {},
   "outputs": [],
   "source": [
    "class Batman():\n",
    "    def power(self):\n",
    "        return 'perserverance'\n",
    " \n",
    "class Superman():\n",
    "    def power(self):\n",
    "        return 'flight'\n",
    "    \n",
    "batObj = Batman()\n",
    "supObj = Superman()"
   ]
  },
  {
   "cell_type": "code",
   "execution_count": 29,
   "metadata": {},
   "outputs": [
    {
     "name": "stdout",
     "output_type": "stream",
     "text": [
      "perserverance\n",
      "flight\n"
     ]
    }
   ],
   "source": [
    "for obj in (batObj, supObj):\n",
    "    print (obj.power())"
   ]
  },
  {
   "cell_type": "markdown",
   "metadata": {},
   "source": [
    "Let us look at another one"
   ]
  },
  {
   "cell_type": "code",
   "execution_count": 30,
   "metadata": {},
   "outputs": [],
   "source": [
    "class english:    \n",
    "    def greeting(self):       \n",
    "        return \"Hello\"\n",
    "            \n",
    "class kannada:    \n",
    "    def greeting(self):\n",
    "        return \"namaste\"\n",
    "      \n",
    "engObj = english()\n",
    "kanObj = kannada()"
   ]
  },
  {
   "cell_type": "code",
   "execution_count": 31,
   "metadata": {},
   "outputs": [
    {
     "name": "stdout",
     "output_type": "stream",
     "text": [
      "Hello\n",
      "namaste\n"
     ]
    }
   ],
   "source": [
    "for obj in (engObj, kanObj):\n",
    "    print (obj.greeting())"
   ]
  },
  {
   "cell_type": "markdown",
   "metadata": {},
   "source": [
    "**Polymorphism with function**"
   ]
  },
  {
   "cell_type": "code",
   "execution_count": 32,
   "metadata": {},
   "outputs": [],
   "source": [
    "def need(hero):\n",
    "    print(hero.power())"
   ]
  },
  {
   "cell_type": "code",
   "execution_count": 33,
   "metadata": {},
   "outputs": [],
   "source": [
    "def greet(language):\n",
    "    print(language.greeting())"
   ]
  },
  {
   "cell_type": "code",
   "execution_count": 34,
   "metadata": {},
   "outputs": [
    {
     "name": "stdout",
     "output_type": "stream",
     "text": [
      "perserverance\n"
     ]
    }
   ],
   "source": [
    "need(batObj)"
   ]
  },
  {
   "cell_type": "code",
   "execution_count": 35,
   "metadata": {},
   "outputs": [
    {
     "name": "stdout",
     "output_type": "stream",
     "text": [
      "flight\n"
     ]
    }
   ],
   "source": [
    "need(supObj)"
   ]
  },
  {
   "cell_type": "code",
   "execution_count": 36,
   "metadata": {},
   "outputs": [
    {
     "name": "stdout",
     "output_type": "stream",
     "text": [
      "Hello\n"
     ]
    }
   ],
   "source": [
    "greet(engObj)"
   ]
  },
  {
   "cell_type": "code",
   "execution_count": 37,
   "metadata": {},
   "outputs": [
    {
     "name": "stdout",
     "output_type": "stream",
     "text": [
      "namaste\n"
     ]
    }
   ],
   "source": [
    "greet(kanObj)"
   ]
  },
  {
   "cell_type": "markdown",
   "metadata": {},
   "source": [
    "__Inheritance__ and __override__"
   ]
  },
  {
   "cell_type": "code",
   "execution_count": 38,
   "metadata": {},
   "outputs": [],
   "source": [
    "class Jl:\n",
    "    publisher='dc'\n",
    "    work='heroes'\n",
    "    def __init__(self):\n",
    "        self.team = {'batman':'bat', 'superman':'super', 'flash':'speed', 'aquaman':'aqua', 'wonderwoman':'amazonian'}\n",
    "        \n",
    "    def allheroes(self):\n",
    "        for k,v in (self.team).items():\n",
    "            print(f\"{k} will protect us with {v} power\")\n",
    "            \n",
    "    def teamleader(self):\n",
    "        return f'batman is the teamleader'\n",
    "    \n",
    "    def pub(self):\n",
    "        return f'{self.publisher} is the publisher'\n",
    "    \n",
    "    \n",
    "class avengers:\n",
    "    publisher='marvel'\n",
    "    work='heroes'\n",
    "    def __init__(self):\n",
    "        self.team = {'cap':'guidance','ironman':'gadgets','hulk':'strength','thor':'hammer','panther':'claws'}\n",
    "    \n",
    "    def allheroes(self):\n",
    "        for k,v in (self.team).items():\n",
    "            print(f\"{k} will protect us with {v} power\")\n",
    "            \n",
    "    def teamleader(self):\n",
    "        return f'captain america is the teamleader'  \n",
    "    \n",
    "    def pub(self):\n",
    "        return f'{self.publisher} is the publisher'\n",
    "    "
   ]
  },
  {
   "cell_type": "code",
   "execution_count": 39,
   "metadata": {},
   "outputs": [
    {
     "name": "stdout",
     "output_type": "stream",
     "text": [
      "batman will protect us with bat power\n",
      "superman will protect us with super power\n",
      "flash will protect us with speed power\n",
      "aquaman will protect us with aqua power\n",
      "wonderwoman will protect us with amazonian power\n"
     ]
    }
   ],
   "source": [
    "Jl().allheroes()"
   ]
  },
  {
   "cell_type": "code",
   "execution_count": 40,
   "metadata": {},
   "outputs": [
    {
     "name": "stdout",
     "output_type": "stream",
     "text": [
      "cap will protect us with guidance power\n",
      "ironman will protect us with gadgets power\n",
      "hulk will protect us with strength power\n",
      "thor will protect us with hammer power\n",
      "panther will protect us with claws power\n"
     ]
    }
   ],
   "source": [
    "avengers().allheroes()"
   ]
  },
  {
   "cell_type": "code",
   "execution_count": 41,
   "metadata": {},
   "outputs": [
    {
     "data": {
      "text/plain": [
       "'batman is the teamleader'"
      ]
     },
     "execution_count": 41,
     "metadata": {},
     "output_type": "execute_result"
    }
   ],
   "source": [
    "Jl().teamleader()"
   ]
  },
  {
   "cell_type": "code",
   "execution_count": 42,
   "metadata": {},
   "outputs": [
    {
     "data": {
      "text/plain": [
       "'captain america is the teamleader'"
      ]
     },
     "execution_count": 42,
     "metadata": {},
     "output_type": "execute_result"
    }
   ],
   "source": [
    "avengers().teamleader()"
   ]
  },
  {
   "cell_type": "code",
   "execution_count": 43,
   "metadata": {},
   "outputs": [
    {
     "data": {
      "text/plain": [
       "'heroes'"
      ]
     },
     "execution_count": 43,
     "metadata": {},
     "output_type": "execute_result"
    }
   ],
   "source": [
    "Jl().work"
   ]
  },
  {
   "cell_type": "code",
   "execution_count": 44,
   "metadata": {},
   "outputs": [
    {
     "data": {
      "text/plain": [
       "'heroes'"
      ]
     },
     "execution_count": 44,
     "metadata": {},
     "output_type": "execute_result"
    }
   ],
   "source": [
    "avengers().work"
   ]
  },
  {
   "cell_type": "markdown",
   "metadata": {},
   "source": [
    "You can clearly see that *class Jl* and *class avengers* have some code in common. The method allheroes, pub and the attribute work are common in both the classes which means there is a lot of code that is repeated. Python's __inheritance__ will help us here. We can make *class jl* as the parent class of *class avengers* and override only those attributes or methods which are not common or unique to the avengers class."
   ]
  },
  {
   "cell_type": "code",
   "execution_count": 45,
   "metadata": {},
   "outputs": [],
   "source": [
    "class Jl:\n",
    "    publisher='dc'\n",
    "    work='heroes'\n",
    "    \n",
    "    def __init__(self):\n",
    "        self.team = {'batman':'bat', 'superman':'super', 'flash':'speed', 'aquaman':'aqua', 'wonderwoman':'amazonian'}\n",
    "        \n",
    "    def allheroes(self):\n",
    "        for k,v in (self.team).items():\n",
    "            print(f\"{k} will protect us with {v} power\")\n",
    "            \n",
    "    def teamleader(self):\n",
    "        return f'batman is the teamleader'\n",
    "    \n",
    "    def pub(self):\n",
    "        return f'{self.publisher} is the publisher'    \n",
    "    \n",
    "class avengers(Jl):\n",
    "    publisher='marvel'\n",
    "    \n",
    "    def __init__(self):\n",
    "        self.team = {'cap':'guidance','ironman':'gadgets','hulk':'strength','thor':'hammer','panther':'claws'}\n",
    "            \n",
    "    def teamleader(self):\n",
    "        return f'captain america is the teamleader' \n",
    "    "
   ]
  },
  {
   "cell_type": "code",
   "execution_count": 46,
   "metadata": {},
   "outputs": [
    {
     "name": "stdout",
     "output_type": "stream",
     "text": [
      "cap will protect us with guidance power\n",
      "ironman will protect us with gadgets power\n",
      "hulk will protect us with strength power\n",
      "thor will protect us with hammer power\n",
      "panther will protect us with claws power\n"
     ]
    }
   ],
   "source": [
    "avengers().allheroes()"
   ]
  },
  {
   "cell_type": "code",
   "execution_count": 47,
   "metadata": {},
   "outputs": [
    {
     "data": {
      "text/plain": [
       "'captain america is the teamleader'"
      ]
     },
     "execution_count": 47,
     "metadata": {},
     "output_type": "execute_result"
    }
   ],
   "source": [
    "avengers().teamleader()"
   ]
  },
  {
   "cell_type": "code",
   "execution_count": 48,
   "metadata": {},
   "outputs": [
    {
     "data": {
      "text/plain": [
       "'heroes'"
      ]
     },
     "execution_count": 48,
     "metadata": {},
     "output_type": "execute_result"
    }
   ],
   "source": [
    "avengers().work"
   ]
  },
  {
   "cell_type": "code",
   "execution_count": 49,
   "metadata": {},
   "outputs": [
    {
     "data": {
      "text/plain": [
       "'marvel is the publisher'"
      ]
     },
     "execution_count": 49,
     "metadata": {},
     "output_type": "execute_result"
    }
   ],
   "source": [
    "avengers().pub()"
   ]
  },
  {
   "cell_type": "markdown",
   "metadata": {},
   "source": [
    "__super()__ function"
   ]
  },
  {
   "cell_type": "code",
   "execution_count": 50,
   "metadata": {},
   "outputs": [],
   "source": [
    "class avengers(Jl):\n",
    "    publisher='marvel'\n",
    "    \n",
    "    def __init__(self):\n",
    "        self.team = {'cap':'guidance','ironman':'gadgets','hulk':'strength','thor':'hammer','panther':'claws'}\n",
    "        # Let us override this __init__() with the __init__() from it's parent class.\n",
    "        super().__init__()\n",
    "            \n",
    "    def teamleader(self):\n",
    "        return f'captain america is the teamleader' \n",
    "    "
   ]
  },
  {
   "cell_type": "code",
   "execution_count": 51,
   "metadata": {},
   "outputs": [
    {
     "name": "stdout",
     "output_type": "stream",
     "text": [
      "batman will protect us with bat power\n",
      "superman will protect us with super power\n",
      "flash will protect us with speed power\n",
      "aquaman will protect us with aqua power\n",
      "wonderwoman will protect us with amazonian power\n"
     ]
    }
   ],
   "source": [
    "avengers().allheroes()"
   ]
  },
  {
   "cell_type": "code",
   "execution_count": 52,
   "metadata": {},
   "outputs": [],
   "source": [
    "class avengers(Jl):\n",
    "    publisher='marvel'\n",
    "    \n",
    "    def __init__(self):\n",
    "        self.team = {'cap':'guidance','ironman':'gadgets','hulk':'strength','thor':'hammer','panther':'claws'}\n",
    "        # Let us override this __init__() with the __init__() from it's parent class.\n",
    "        super().__init__()\n",
    "            \n",
    "    def teamleader(self):\n",
    "        return super().teamleader()\n",
    "    "
   ]
  },
  {
   "cell_type": "code",
   "execution_count": 53,
   "metadata": {},
   "outputs": [
    {
     "data": {
      "text/plain": [
       "'batman is the teamleader'"
      ]
     },
     "execution_count": 53,
     "metadata": {},
     "output_type": "execute_result"
    }
   ],
   "source": [
    "avengers().teamleader()"
   ]
  },
  {
   "cell_type": "markdown",
   "metadata": {},
   "source": [
    "##### multiple inheritance"
   ]
  },
  {
   "cell_type": "code",
   "execution_count": 54,
   "metadata": {},
   "outputs": [
    {
     "name": "stdout",
     "output_type": "stream",
     "text": [
      "Initializing: class D\n",
      "Initializing: class C\n",
      "Initializing: class B\n",
      "Initializing: class A\n",
      "from class D: 1\n",
      "from class C: 2\n",
      "from class B: 3\n",
      "from class A: 4\n"
     ]
    }
   ],
   "source": [
    "\n",
    "class A:\n",
    "    def __init__(self):\n",
    "        print('Initializing: class A')\n",
    "\n",
    "    def method(self, b):\n",
    "        print('from class A:', b)\n",
    "\n",
    "\n",
    "class B(A):\n",
    "    def __init__(self):\n",
    "        print('Initializing: class B')\n",
    "        super().__init__()\n",
    "\n",
    "    def method(self, b):\n",
    "        print('from class B:', b)\n",
    "        super().method(b + 1)\n",
    "\n",
    "\n",
    "class C(B):\n",
    "    def __init__(self):\n",
    "        print('Initializing: class C')\n",
    "        super().__init__()\n",
    "\n",
    "    def method(self, b):\n",
    "        print('from class C:', b)\n",
    "        super().method(b + 1)\n",
    "\n",
    "class D(C):\n",
    "    def __init__(self):\n",
    "        print('Initializing: class D')\n",
    "        super().__init__()\n",
    "\n",
    "    def method(self, b):\n",
    "        print('from class D:', b)\n",
    "        super().method(b + 1)\n",
    "        \n",
    "if __name__ == '__main__':\n",
    "    d = D()\n",
    "    d.method(1)\n"
   ]
  },
  {
   "cell_type": "markdown",
   "metadata": {},
   "source": [
    "__magic or dunder methods__"
   ]
  },
  {
   "cell_type": "markdown",
   "metadata": {},
   "source": [
    "Magic or Dunder (double underscore) methods are pre built python methods"
   ]
  },
  {
   "cell_type": "code",
   "execution_count": 55,
   "metadata": {},
   "outputs": [],
   "source": [
    "class superhero():\n",
    "    '''\n",
    "    superheroes from dc and marvel\n",
    "    '''\n",
    "    def __init__(self, name, power, universe):\n",
    "        self.name=name\n",
    "        self.power=power\n",
    "        self.universe=universe"
   ]
  },
  {
   "cell_type": "code",
   "execution_count": 56,
   "metadata": {},
   "outputs": [],
   "source": [
    "a = superhero('batman','perseverence','DC')"
   ]
  },
  {
   "cell_type": "code",
   "execution_count": 57,
   "metadata": {},
   "outputs": [
    {
     "data": {
      "text/plain": [
       "<__main__.superhero at 0x5bc9e10>"
      ]
     },
     "execution_count": 57,
     "metadata": {},
     "output_type": "execute_result"
    }
   ],
   "source": [
    "a"
   ]
  },
  {
   "cell_type": "markdown",
   "metadata": {},
   "source": [
    "It simply returned an object. no data."
   ]
  },
  {
   "cell_type": "code",
   "execution_count": 58,
   "metadata": {},
   "outputs": [],
   "source": [
    "class superhero():\n",
    "    '''\n",
    "    superheroes from dc and marvel\n",
    "    '''\n",
    "    def __init__(self, name, power, universe):\n",
    "        self.name=name\n",
    "        self.power=power\n",
    "        self.universe=universe\n",
    "        \n",
    "    def __str__(self):\n",
    "        print('calling __str__')\n",
    "        return f\"{self.name} is from {self.universe} and has the superpower {self.power}\""
   ]
  },
  {
   "cell_type": "code",
   "execution_count": 59,
   "metadata": {},
   "outputs": [],
   "source": [
    "a = superhero('batman','perseverence','DC')"
   ]
  },
  {
   "cell_type": "code",
   "execution_count": 60,
   "metadata": {},
   "outputs": [
    {
     "data": {
      "text/plain": [
       "<__main__.superhero at 0x5bc9450>"
      ]
     },
     "execution_count": 60,
     "metadata": {},
     "output_type": "execute_result"
    }
   ],
   "source": [
    "a"
   ]
  },
  {
   "cell_type": "code",
   "execution_count": 61,
   "metadata": {},
   "outputs": [
    {
     "name": "stdout",
     "output_type": "stream",
     "text": [
      "calling __str__\n",
      "batman is from DC and has the superpower perseverence\n"
     ]
    }
   ],
   "source": [
    "print(a)"
   ]
  },
  {
   "cell_type": "markdown",
   "metadata": {},
   "source": [
    "By implementing the __str__ we can print an object and get some predefined details."
   ]
  },
  {
   "cell_type": "code",
   "execution_count": 62,
   "metadata": {},
   "outputs": [],
   "source": [
    "class superhero():\n",
    "    '''\n",
    "    superheroes from dc and marvel\n",
    "    '''\n",
    "    def __init__(self, name, power, universe):\n",
    "        self.name=name\n",
    "        self.power=power\n",
    "        self.universe=universe\n",
    "        \n",
    "    def __str__(self):\n",
    "        print('calling __str__')\n",
    "        return f\"{self.name} is from {self.universe} and has the superpower {self.power}\"\n",
    "    \n",
    "        \n",
    "    def __repr__(self):\n",
    "        print('calling __repr__')\n",
    "        return f\"{self.name} is from {self.universe} and has the superpower {self.power}\""
   ]
  },
  {
   "cell_type": "code",
   "execution_count": 63,
   "metadata": {},
   "outputs": [],
   "source": [
    "a = superhero('batman','perseverence','DC')"
   ]
  },
  {
   "cell_type": "code",
   "execution_count": 64,
   "metadata": {},
   "outputs": [
    {
     "name": "stdout",
     "output_type": "stream",
     "text": [
      "calling __repr__\n"
     ]
    },
    {
     "data": {
      "text/plain": [
       "batman is from DC and has the superpower perseverence"
      ]
     },
     "execution_count": 64,
     "metadata": {},
     "output_type": "execute_result"
    }
   ],
   "source": [
    "a"
   ]
  },
  {
   "cell_type": "code",
   "execution_count": 65,
   "metadata": {},
   "outputs": [
    {
     "name": "stdout",
     "output_type": "stream",
     "text": [
      "calling __str__\n",
      "batman is from DC and has the superpower perseverence\n"
     ]
    }
   ],
   "source": [
    "print(a)"
   ]
  },
  {
   "cell_type": "markdown",
   "metadata": {},
   "source": [
    "Implementing __repr__ will let us get predefined details by just calling the object."
   ]
  },
  {
   "cell_type": "code",
   "execution_count": 66,
   "metadata": {},
   "outputs": [],
   "source": [
    "import datetime\n",
    "now=datetime.date.today()"
   ]
  },
  {
   "cell_type": "code",
   "execution_count": 67,
   "metadata": {},
   "outputs": [
    {
     "data": {
      "text/plain": [
       "'2019-02-26'"
      ]
     },
     "execution_count": 67,
     "metadata": {},
     "output_type": "execute_result"
    }
   ],
   "source": [
    "str(now)"
   ]
  },
  {
   "cell_type": "markdown",
   "metadata": {},
   "source": [
    "This is what a user is interested in. string representation of data. If you are passing the result to a user then use str()"
   ]
  },
  {
   "cell_type": "code",
   "execution_count": 68,
   "metadata": {},
   "outputs": [
    {
     "data": {
      "text/plain": [
       "'datetime.date(2019, 2, 26)'"
      ]
     },
     "execution_count": 68,
     "metadata": {},
     "output_type": "execute_result"
    }
   ],
   "source": [
    "repr(now)"
   ]
  },
  {
   "cell_type": "markdown",
   "metadata": {},
   "source": [
    "This is what a developer or another application is interested in. If you are passing the result to a developer or another application which is going to use this as an input then use repr()"
   ]
  },
  {
   "cell_type": "code",
   "execution_count": 69,
   "metadata": {},
   "outputs": [],
   "source": [
    "a=str(now)\n",
    "b=repr(now)"
   ]
  },
  {
   "cell_type": "code",
   "execution_count": 70,
   "metadata": {},
   "outputs": [
    {
     "ename": "SyntaxError",
     "evalue": "invalid token (<string>, line 1)",
     "output_type": "error",
     "traceback": [
      "Traceback \u001b[1;36m(most recent call last)\u001b[0m:\n",
      "  File \u001b[0;32m\"c:\\users\\gaju\\appdata\\local\\programs\\python\\python37-32\\lib\\site-packages\\IPython\\core\\interactiveshell.py\"\u001b[0m, line \u001b[0;32m3267\u001b[0m, in \u001b[0;35mrun_code\u001b[0m\n    exec(code_obj, self.user_global_ns, self.user_ns)\n",
      "\u001b[1;36m  File \u001b[1;32m\"<ipython-input-70-e1ea98856c44>\"\u001b[1;36m, line \u001b[1;32m1\u001b[1;36m, in \u001b[1;35m<module>\u001b[1;36m\u001b[0m\n\u001b[1;33m    eval(a)\u001b[0m\n",
      "\u001b[1;36m  File \u001b[1;32m\"<string>\"\u001b[1;36m, line \u001b[1;32m1\u001b[0m\n\u001b[1;33m    2019-02-26\u001b[0m\n\u001b[1;37m          ^\u001b[0m\n\u001b[1;31mSyntaxError\u001b[0m\u001b[1;31m:\u001b[0m invalid token\n"
     ]
    }
   ],
   "source": [
    "eval(a)"
   ]
  },
  {
   "cell_type": "code",
   "execution_count": null,
   "metadata": {},
   "outputs": [],
   "source": [
    "eval(b)"
   ]
  },
  {
   "cell_type": "markdown",
   "metadata": {},
   "source": [
    "### Polymorphism"
   ]
  },
  {
   "cell_type": "markdown",
   "metadata": {},
   "source": [
    "Poly - Many,  \n",
    "morph - forms.  \n",
    "Polymorphism literally means many forms. Same function being used differently or a function with multiple behavior or characteristics."
   ]
  },
  {
   "cell_type": "code",
   "execution_count": 1,
   "metadata": {},
   "outputs": [
    {
     "data": {
      "text/plain": [
       "6"
      ]
     },
     "execution_count": 1,
     "metadata": {},
     "output_type": "execute_result"
    }
   ],
   "source": [
    "len('python')"
   ]
  },
  {
   "cell_type": "code",
   "execution_count": 2,
   "metadata": {},
   "outputs": [
    {
     "data": {
      "text/plain": [
       "4"
      ]
     },
     "execution_count": 2,
     "metadata": {},
     "output_type": "execute_result"
    }
   ],
   "source": [
    "len([1,2,3,4])"
   ]
  },
  {
   "cell_type": "markdown",
   "metadata": {},
   "source": [
    "Here len() a built in python function calculates the length of a string or a list, tuple, dictionary etc.,"
   ]
  },
  {
   "cell_type": "code",
   "execution_count": 3,
   "metadata": {},
   "outputs": [
    {
     "data": {
      "text/plain": [
       "3"
      ]
     },
     "execution_count": 3,
     "metadata": {},
     "output_type": "execute_result"
    }
   ],
   "source": [
    "len((1,2,3))"
   ]
  },
  {
   "cell_type": "code",
   "execution_count": 4,
   "metadata": {},
   "outputs": [
    {
     "data": {
      "text/plain": [
       "3"
      ]
     },
     "execution_count": 4,
     "metadata": {},
     "output_type": "execute_result"
    }
   ],
   "source": [
    "len({1,2,3})"
   ]
  },
  {
   "cell_type": "code",
   "execution_count": 5,
   "metadata": {},
   "outputs": [
    {
     "data": {
      "text/plain": [
       "2"
      ]
     },
     "execution_count": 5,
     "metadata": {},
     "output_type": "execute_result"
    }
   ],
   "source": [
    "len({1:'one', 2:'two'})"
   ]
  },
  {
   "cell_type": "markdown",
   "metadata": {},
   "source": [
    "#### Polymorphism in functions"
   ]
  },
  {
   "cell_type": "code",
   "execution_count": 8,
   "metadata": {},
   "outputs": [],
   "source": [
    "def adder (a,b,c=0):\n",
    "    '''c=0 means if 3rd argument c is not given then assume it to be 0'''\n",
    "    return a+b+c"
   ]
  },
  {
   "cell_type": "code",
   "execution_count": 9,
   "metadata": {},
   "outputs": [
    {
     "name": "stdout",
     "output_type": "stream",
     "text": [
      "3\n",
      "6\n"
     ]
    }
   ],
   "source": [
    "print(adder(1,2))\n",
    "print(adder(1,2,3))"
   ]
  },
  {
   "cell_type": "markdown",
   "metadata": {},
   "source": [
    "#### Polymorphism in classes"
   ]
  },
  {
   "cell_type": "code",
   "execution_count": 28,
   "metadata": {},
   "outputs": [],
   "source": [
    "class Banana():\n",
    "    def color(self):\n",
    "        return('Banana is mostly yellow with some dark patches')\n",
    "    \n",
    "    def shape(self):\n",
    "        return('Banana resembles crescent moon in shape')\n",
    "        \n",
    "    def taste(self):\n",
    "        return('Banana is slightly sweet')\n",
    "        \n",
    "class Coconut():\n",
    "    def color(self):\n",
    "        return('Coconut is brown')\n",
    "    \n",
    "    def shape(self):\n",
    "        return('Coconut is round')\n",
    "        \n",
    "    def taste(self):\n",
    "        return('Coconut is lightly sweet white shell with sweet water inside')"
   ]
  },
  {
   "cell_type": "code",
   "execution_count": 29,
   "metadata": {},
   "outputs": [],
   "source": [
    "obj_ban=Banana()\n",
    "obj_coco=Coconut()\n",
    "for fruit in (obj_ban, obj_coco):\n",
    "    fruit.color()\n",
    "    fruit.shape()\n",
    "    fruit.taste()"
   ]
  },
  {
   "cell_type": "markdown",
   "metadata": {},
   "source": [
    "#### Polymorphism with inheritance"
   ]
  },
  {
   "cell_type": "code",
   "execution_count": 30,
   "metadata": {},
   "outputs": [],
   "source": [
    "class Fruit:\n",
    "    def about(self):\n",
    "        return('This is a fruit class')\n",
    "    \n",
    "    def taste(self):\n",
    "        return('Fruits taste good')\n",
    "        \n",
    "class Banana(Fruit):\n",
    "    def taste(self):\n",
    "        return('Banana is slightly sweet')\n",
    "        \n",
    "class Coconut(Fruit):\n",
    "    def taste(self):\n",
    "        return('Coconut is lightly sweet white shell with sweet water inside')\n",
    "        \n",
    "obj_f=Fruit()                \n",
    "obj_b=Banana()\n",
    "obj_c=Coconut()"
   ]
  },
  {
   "cell_type": "code",
   "execution_count": 31,
   "metadata": {},
   "outputs": [
    {
     "data": {
      "text/plain": [
       "'This is a fruit class'"
      ]
     },
     "execution_count": 31,
     "metadata": {},
     "output_type": "execute_result"
    }
   ],
   "source": [
    "obj_f.about()"
   ]
  },
  {
   "cell_type": "code",
   "execution_count": 32,
   "metadata": {},
   "outputs": [
    {
     "data": {
      "text/plain": [
       "'This is a fruit class'"
      ]
     },
     "execution_count": 32,
     "metadata": {},
     "output_type": "execute_result"
    }
   ],
   "source": [
    "obj_b.about()"
   ]
  },
  {
   "cell_type": "code",
   "execution_count": 33,
   "metadata": {},
   "outputs": [
    {
     "data": {
      "text/plain": [
       "'This is a fruit class'"
      ]
     },
     "execution_count": 33,
     "metadata": {},
     "output_type": "execute_result"
    }
   ],
   "source": [
    "obj_c.about()"
   ]
  },
  {
   "cell_type": "code",
   "execution_count": 34,
   "metadata": {},
   "outputs": [
    {
     "name": "stdout",
     "output_type": "stream",
     "text": [
      "Fruits taste good\n",
      "Banana is slightly sweet\n",
      "Coconut is lightly sweet white shell with sweet water inside\n"
     ]
    }
   ],
   "source": [
    "print(obj_f.taste())\n",
    "print(obj_b.taste())\n",
    "print(obj_c.taste())"
   ]
  },
  {
   "cell_type": "markdown",
   "metadata": {},
   "source": [
    "#### Polymorphism with a Function and objects"
   ]
  },
  {
   "cell_type": "code",
   "execution_count": 37,
   "metadata": {},
   "outputs": [],
   "source": [
    "def fruiter(obj):\n",
    "    print(obj.taste())\n",
    "    print(obj.about())"
   ]
  },
  {
   "cell_type": "code",
   "execution_count": 38,
   "metadata": {},
   "outputs": [
    {
     "name": "stdout",
     "output_type": "stream",
     "text": [
      "Banana is slightly sweet\n",
      "This is a fruit class\n"
     ]
    }
   ],
   "source": [
    "fruiter(obj_b)"
   ]
  },
  {
   "cell_type": "code",
   "execution_count": 39,
   "metadata": {},
   "outputs": [
    {
     "name": "stdout",
     "output_type": "stream",
     "text": [
      "Coconut is lightly sweet white shell with sweet water inside\n",
      "This is a fruit class\n"
     ]
    }
   ],
   "source": [
    "fruiter(obj_c)"
   ]
  },
  {
   "cell_type": "code",
   "execution_count": null,
   "metadata": {},
   "outputs": [],
   "source": []
  }
 ],
 "metadata": {
  "kernelspec": {
   "display_name": "Python 3",
   "language": "python",
   "name": "python3"
  },
  "language_info": {
   "codemirror_mode": {
    "name": "ipython",
    "version": 3
   },
   "file_extension": ".py",
   "mimetype": "text/x-python",
   "name": "python",
   "nbconvert_exporter": "python",
   "pygments_lexer": "ipython3",
   "version": "3.7.1"
  }
 },
 "nbformat": 4,
 "nbformat_minor": 2
}
